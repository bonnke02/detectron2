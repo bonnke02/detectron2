{
  "nbformat": 4,
  "nbformat_minor": 0,
  "metadata": {
    "colab": {
      "provenance": [],
      "mount_file_id": "1Z6aqeSlyNupYmkucIYJN-Wx0ZFxlgJQx",
      "authorship_tag": "ABX9TyOfXo1ubOQApyI7rNL75oUn",
      "include_colab_link": true
    },
    "kernelspec": {
      "name": "python3",
      "display_name": "Python 3"
    },
    "language_info": {
      "name": "python"
    }
  },
  "cells": [
    {
      "cell_type": "markdown",
      "metadata": {
        "id": "view-in-github",
        "colab_type": "text"
      },
      "source": [
        "<a href=\"https://colab.research.google.com/github/bonnke02/detectron2/blob/master/scikit_learn.ipynb\" target=\"_parent\"><img src=\"https://colab.research.google.com/assets/colab-badge.svg\" alt=\"Open In Colab\"/></a>"
      ]
    },
    {
      "cell_type": "markdown",
      "source": [
        "Chapter 3: First steps with scikit-learn library; training a perceptron.\n",
        "Perceptron is a learning algorithm for classification.\n",
        "The scikit-learn library offers not only a large variety of learning algorithms, but also many convenient functiond to preprocess the data and to fine tune and evaluate our models.\n"
      ],
      "metadata": {
        "id": "7ynzQRPA34Ao"
      }
    },
    {
      "cell_type": "code",
      "source": [
        "from sklearn import datasets\n",
        "import numpy as np\n",
        "\n",
        "iris =datasets.load_iris()\n",
        "X = iris.data[:, [2, 3]]\n",
        "y = iris.target\n",
        "print('Class labels: ', np.unique(y))"
      ],
      "metadata": {
        "colab": {
          "base_uri": "https://localhost:8080/"
        },
        "id": "jb_dMmQt5C4e",
        "outputId": "1f7bc9e5-d73e-4f5c-d5eb-1c12d5679fb1"
      },
      "execution_count": null,
      "outputs": [
        {
          "output_type": "stream",
          "name": "stdout",
          "text": [
            "Class labels:  [0 1 2]\n"
          ]
        }
      ]
    },
    {
      "cell_type": "markdown",
      "source": [
        "- The np.unique function returned the three inique class labels stored in iris target, and as we see the iris flower class names iris-setosa, iris-versicolor and iris-virginica are already stored as integers (0,1,2). (encoding class labels as integers is a common convention among most machine learning libraries.)\n",
        "\n",
        "- To evaluate how well a trained model performs on unseen data, we will further split the data into separate training and test datasets."
      ],
      "metadata": {
        "id": "-LrTd5Dm6uzn"
      }
    },
    {
      "cell_type": "code",
      "source": [
        "from sklearn.model_selection import train_test_split\n",
        "X_train, X_test, y_train, y_test = train_test_split(X, y, test_size=0.3, random_state=1, stratify=y)"
      ],
      "metadata": {
        "id": "Uy4z4a9Y8LcS"
      },
      "execution_count": null,
      "outputs": []
    },
    {
      "cell_type": "markdown",
      "source": [
        "- Using the train_test_split function from scikit-learn's model_selection module, we randomly split the X and y arrays into 30% test data(45 samples) and 70% training data (105 samples). The function also shuffles the training data internally before splitting.\n",
        "- Via the random_state parameter, we provide a fixed random seed for the internal psuedo-random number generator that is used for shuffling the data sets prior to the splitting. This ensures that our results are reproducible\n",
        "- We used stratification via stratify=y, this means that the train_test_split method returns training and test subsets that have the same proportion as the input datasets. We can use numpy bincount function to check if this is really true."
      ],
      "metadata": {
        "id": "JeDUv3lz9CoT"
      }
    },
    {
      "cell_type": "code",
      "source": [
        "print('Labels counts in y:', np.bincount(y))"
      ],
      "metadata": {
        "colab": {
          "base_uri": "https://localhost:8080/"
        },
        "id": "Xk6Poul1AKiB",
        "outputId": "d9409f7c-1aaa-4a7d-96f7-6ad7c5ee57a7"
      },
      "execution_count": null,
      "outputs": [
        {
          "output_type": "stream",
          "name": "stdout",
          "text": [
            "Labels counts in y: [50 50 50]\n"
          ]
        }
      ]
    },
    {
      "cell_type": "code",
      "source": [
        "print('Labels count in y_train: ', np.bincount(y_train))\n",
        "print('Labels count in y_test: ', np.bincount(y_test))"
      ],
      "metadata": {
        "colab": {
          "base_uri": "https://localhost:8080/"
        },
        "id": "i8-nlamMAeSu",
        "outputId": "a2a9b0b9-efd9-499d-84c9-e9c708bc6292"
      },
      "execution_count": null,
      "outputs": [
        {
          "output_type": "stream",
          "name": "stdout",
          "text": [
            "Labels count in y_train:  [35 35 35]\n",
            "Labels count in y_test:  [15 15 15]\n"
          ]
        }
      ]
    },
    {
      "cell_type": "markdown",
      "source": [
        "- Many machine learning and optimising algorithms also require feature scaling for optimal performance."
      ],
      "metadata": {
        "id": "OaHVDec7BP0r"
      }
    },
    {
      "cell_type": "code",
      "source": [
        "from sklearn.preprocessing import StandardScaler\n",
        "sc = StandardScaler()\n",
        "sc.fit(X_train)\n",
        "X_train_std = sc.transform(X_train)\n",
        "X_test_std = sc.transform(X_test)"
      ],
      "metadata": {
        "id": "1T-8dZIQBn0b"
      },
      "execution_count": null,
      "outputs": []
    },
    {
      "cell_type": "markdown",
      "source": [
        "- We lloaded StandardScaler class from the preprocessing module and initiated a new StandardScaler object assigned to the sc variable.\n",
        "- Using the fit, method StandardScaler estimated the parmeter u(sample mean) and o(standard deviation) for each feature dimension from the training data. By calling the transform method , we then standardized the training data using those estimated parameters to standardise the test set so that both values in the training and test datasets are comparable with each other."
      ],
      "metadata": {
        "id": "NqfkKM78CRo4"
      }
    },
    {
      "cell_type": "code",
      "source": [
        "from sklearn.linear_model import Perceptron\n",
        "ppn = Perceptron(max_iter=40, eta0=0.1, random_state=1)\n",
        "ppn.fit(X_train_std, y_train)"
      ],
      "metadata": {
        "id": "8ICCz14REi0M",
        "colab": {
          "base_uri": "https://localhost:8080/",
          "height": 74
        },
        "outputId": "4ebcda67-57c5-406c-ef9e-dcfc01d302cd"
      },
      "execution_count": null,
      "outputs": [
        {
          "output_type": "execute_result",
          "data": {
            "text/plain": [
              "Perceptron(eta0=0.1, max_iter=40, random_state=1)"
            ],
            "text/html": [
              "<style>#sk-container-id-1 {color: black;background-color: white;}#sk-container-id-1 pre{padding: 0;}#sk-container-id-1 div.sk-toggleable {background-color: white;}#sk-container-id-1 label.sk-toggleable__label {cursor: pointer;display: block;width: 100%;margin-bottom: 0;padding: 0.3em;box-sizing: border-box;text-align: center;}#sk-container-id-1 label.sk-toggleable__label-arrow:before {content: \"▸\";float: left;margin-right: 0.25em;color: #696969;}#sk-container-id-1 label.sk-toggleable__label-arrow:hover:before {color: black;}#sk-container-id-1 div.sk-estimator:hover label.sk-toggleable__label-arrow:before {color: black;}#sk-container-id-1 div.sk-toggleable__content {max-height: 0;max-width: 0;overflow: hidden;text-align: left;background-color: #f0f8ff;}#sk-container-id-1 div.sk-toggleable__content pre {margin: 0.2em;color: black;border-radius: 0.25em;background-color: #f0f8ff;}#sk-container-id-1 input.sk-toggleable__control:checked~div.sk-toggleable__content {max-height: 200px;max-width: 100%;overflow: auto;}#sk-container-id-1 input.sk-toggleable__control:checked~label.sk-toggleable__label-arrow:before {content: \"▾\";}#sk-container-id-1 div.sk-estimator input.sk-toggleable__control:checked~label.sk-toggleable__label {background-color: #d4ebff;}#sk-container-id-1 div.sk-label input.sk-toggleable__control:checked~label.sk-toggleable__label {background-color: #d4ebff;}#sk-container-id-1 input.sk-hidden--visually {border: 0;clip: rect(1px 1px 1px 1px);clip: rect(1px, 1px, 1px, 1px);height: 1px;margin: -1px;overflow: hidden;padding: 0;position: absolute;width: 1px;}#sk-container-id-1 div.sk-estimator {font-family: monospace;background-color: #f0f8ff;border: 1px dotted black;border-radius: 0.25em;box-sizing: border-box;margin-bottom: 0.5em;}#sk-container-id-1 div.sk-estimator:hover {background-color: #d4ebff;}#sk-container-id-1 div.sk-parallel-item::after {content: \"\";width: 100%;border-bottom: 1px solid gray;flex-grow: 1;}#sk-container-id-1 div.sk-label:hover label.sk-toggleable__label {background-color: #d4ebff;}#sk-container-id-1 div.sk-serial::before {content: \"\";position: absolute;border-left: 1px solid gray;box-sizing: border-box;top: 0;bottom: 0;left: 50%;z-index: 0;}#sk-container-id-1 div.sk-serial {display: flex;flex-direction: column;align-items: center;background-color: white;padding-right: 0.2em;padding-left: 0.2em;position: relative;}#sk-container-id-1 div.sk-item {position: relative;z-index: 1;}#sk-container-id-1 div.sk-parallel {display: flex;align-items: stretch;justify-content: center;background-color: white;position: relative;}#sk-container-id-1 div.sk-item::before, #sk-container-id-1 div.sk-parallel-item::before {content: \"\";position: absolute;border-left: 1px solid gray;box-sizing: border-box;top: 0;bottom: 0;left: 50%;z-index: -1;}#sk-container-id-1 div.sk-parallel-item {display: flex;flex-direction: column;z-index: 1;position: relative;background-color: white;}#sk-container-id-1 div.sk-parallel-item:first-child::after {align-self: flex-end;width: 50%;}#sk-container-id-1 div.sk-parallel-item:last-child::after {align-self: flex-start;width: 50%;}#sk-container-id-1 div.sk-parallel-item:only-child::after {width: 0;}#sk-container-id-1 div.sk-dashed-wrapped {border: 1px dashed gray;margin: 0 0.4em 0.5em 0.4em;box-sizing: border-box;padding-bottom: 0.4em;background-color: white;}#sk-container-id-1 div.sk-label label {font-family: monospace;font-weight: bold;display: inline-block;line-height: 1.2em;}#sk-container-id-1 div.sk-label-container {text-align: center;}#sk-container-id-1 div.sk-container {/* jupyter's `normalize.less` sets `[hidden] { display: none; }` but bootstrap.min.css set `[hidden] { display: none !important; }` so we also need the `!important` here to be able to override the default hidden behavior on the sphinx rendered scikit-learn.org. See: https://github.com/scikit-learn/scikit-learn/issues/21755 */display: inline-block !important;position: relative;}#sk-container-id-1 div.sk-text-repr-fallback {display: none;}</style><div id=\"sk-container-id-1\" class=\"sk-top-container\"><div class=\"sk-text-repr-fallback\"><pre>Perceptron(eta0=0.1, max_iter=40, random_state=1)</pre><b>In a Jupyter environment, please rerun this cell to show the HTML representation or trust the notebook. <br />On GitHub, the HTML representation is unable to render, please try loading this page with nbviewer.org.</b></div><div class=\"sk-container\" hidden><div class=\"sk-item\"><div class=\"sk-estimator sk-toggleable\"><input class=\"sk-toggleable__control sk-hidden--visually\" id=\"sk-estimator-id-1\" type=\"checkbox\" checked><label for=\"sk-estimator-id-1\" class=\"sk-toggleable__label sk-toggleable__label-arrow\">Perceptron</label><div class=\"sk-toggleable__content\"><pre>Perceptron(eta0=0.1, max_iter=40, random_state=1)</pre></div></div></div></div></div>"
            ]
          },
          "metadata": {},
          "execution_count": 20
        }
      ]
    },
    {
      "cell_type": "markdown",
      "source": [
        "- max_iter or n_iter specifies the number of iterations(epoch) for which the algorithm should be train. In this case it will run 40 iterations\n",
        "- eta0=0.1 this is the learning rate, which controls the step size duriich each update of the models weights. A value of0.1 means it will udate the weights in relatively small steps.\n",
        "- random_state=1 this parameter sets the random seed to ensure reproducibility. It initializes the random number generator to the same state each time, making your results reproducible."
      ],
      "metadata": {
        "id": "secwdYMDG48t"
      }
    },
    {
      "cell_type": "code",
      "source": [
        "y_pred = ppn.predict(X_test_std)\n",
        "print('Misclassified samples: %d' % (y_test != y_pred).sum())"
      ],
      "metadata": {
        "colab": {
          "base_uri": "https://localhost:8080/"
        },
        "id": "hRMqEw5UIfKL",
        "outputId": "a5a02557-7b26-45a8-c514-e5d7793d6ac6"
      },
      "execution_count": null,
      "outputs": [
        {
          "output_type": "stream",
          "name": "stdout",
          "text": [
            "Misclassified samples: 1\n"
          ]
        }
      ]
    },
    {
      "cell_type": "markdown",
      "source": [
        "- Having trained the model we can now make predictions via the predict method.\n",
        "- We can see that the Perceptron misclassified one out of the 45 flower samples. Thus the misclassificaion error on the dataset is approximately 1/45 = 0.0222 which is 2.2%"
      ],
      "metadata": {
        "id": "lLtx7Y1zI7cl"
      }
    },
    {
      "cell_type": "code",
      "source": [
        "from sklearn.metrics import accuracy_score\n",
        "print('Accuracy: %.2f' % accuracy_score(y_test, y_pred))"
      ],
      "metadata": {
        "colab": {
          "base_uri": "https://localhost:8080/"
        },
        "id": "XndtvDh2KOHe",
        "outputId": "a6209907-1067-49e1-ce58-36aca11f01b4"
      },
      "execution_count": null,
      "outputs": [
        {
          "output_type": "stream",
          "name": "stdout",
          "text": [
            "Accuracy: 0.98\n"
          ]
        }
      ]
    },
    {
      "cell_type": "markdown",
      "source": [
        "- The scikit-learn library also implements a large variety of diffrent performance metrics that are available via the metrics module.\n",
        "- Here the y_test are the true class label and y_pred are the class labe that we predicted previously."
      ],
      "metadata": {
        "id": "JKkomFOpKrPS"
      }
    },
    {
      "cell_type": "markdown",
      "source": [
        "Finally, we can use our plot_decision_regions functions to plot the decision regions of our newlly trained perceptron model and visualize how well it separetes the diffrent flower samples."
      ],
      "metadata": {
        "id": "fTyL-w2dLZNy"
      }
    },
    {
      "cell_type": "code",
      "source": [
        "from matplotlib.colors import ListedColormap\n",
        "import matplotlib.pyplot as plt\n",
        "\n",
        "def plot_decision_regions(X, y, classifier, test_idx=None, resolution=0.02):\n",
        "    # setup marker generator and color map\n",
        "    markers = ('s', 'x', 'o', '^', 'v')\n",
        "    colors = ('red', 'blue', 'lightgreen', 'gray', 'cyan')\n",
        "    cmap = ListedColormap(colors[:len(np.unique(y))])\n",
        "\n",
        "    # Plot the decision surface\n",
        "    x1_min, x1_max = X[:, 0].min() - 1, X[:, 0].max() + 1\n",
        "    x2_min, x2_max = X[:, 1].min() - 1, X[:, 1].max() + 1\n",
        "    xx1, xx2 = np.meshgrid(np.arange(x1_min, x1_max, resolution),\n",
        "                         np.arange(x2_min, x2_max, resolution))\n",
        "    Z = classifier.predict(np.array([xx1.ravel(), xx2.ravel()]).T)\n",
        "    Z = Z.reshape(xx1.shape)\n",
        "    plt.contourf(xx1, xx2, Z, alpha=0.3, cmap=cmap)\n",
        "    plt.xlim(xx1.min(), xx1.max())\n",
        "    plt.ylim(xx2.min(), xx2.max())\n",
        "\n",
        "    for idx, cl in enumerate(np.unique(y)):\n",
        "        plt.scatter(x=X[y == cl, 0], y=X[y == cl, 1],\n",
        "                    alpha=0.8, c=colors[idx],\n",
        "                    marker=markers[idx], label=cl)\n",
        "\n",
        "    # highlight test samples\n",
        "    if test_idx:\n",
        "        # plot all the samples\n",
        "        X_test, y_test = X[test_idx, :], y[test_idx]\n",
        "        plt.scatter(X_test[:, 0], X_test[:, 1],\n",
        "                    c='yellow', alpha=1.0,\n",
        "                    linewidth=1, marker='o',\n",
        "                    s=100, label='test set')\n",
        "\n",
        "# Combine training and test datasets\n",
        "X_combined_std = np.vstack((X_train_std, X_test_std))\n",
        "y_combined = np.hstack((y_train, y_test))\n",
        "\n",
        "# Plot decision regions\n",
        "plot_decision_regions(X_combined_std, y_combined, classifier=ppn, test_idx=range(105, 150))\n",
        "\n",
        "# Set labels and legend\n",
        "plt.xlabel('petal length [standardized]')\n",
        "plt.ylabel('petal width [standardized]')\n",
        "plt.legend(loc='upper left')\n",
        "plt.show()"
      ],
      "metadata": {
        "id": "suaA7C6lL0o_",
        "colab": {
          "base_uri": "https://localhost:8080/",
          "height": 449
        },
        "outputId": "01748682-cd51-46ea-ac19-e04cba4ba877"
      },
      "execution_count": null,
      "outputs": [
        {
          "output_type": "display_data",
          "data": {
            "text/plain": [
              "<Figure size 640x480 with 1 Axes>"
            ],
            "image/png": "[encoded data removed]"
          },
          "metadata": {}
        }
      ]
    }
  ]
}